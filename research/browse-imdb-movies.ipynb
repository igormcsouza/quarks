{
 "metadata": {
  "language_info": {
   "codemirror_mode": {
    "name": "ipython",
    "version": 3
   },
   "file_extension": ".py",
   "mimetype": "text/x-python",
   "name": "python",
   "nbconvert_exporter": "python",
   "pygments_lexer": "ipython3",
   "version": "3.8.5-final"
  },
  "orig_nbformat": 2,
  "kernelspec": {
   "name": "python3",
   "display_name": "Python 3.8.5 64-bit",
   "metadata": {
    "interpreter": {
     "hash": "879bdd038b781f1d2b013550c02e2a18644af8c29427a2582c1172672185636d"
    }
   }
  }
 },
 "nbformat": 4,
 "nbformat_minor": 2,
 "cells": [
  {
   "source": [
    "# Searching Movies at IMDB database\n",
    "\n",
    "Note: The rapidapi-key is stored in a json file with a **x-rapidapi-key** key on it. If you want to follow along, create yout acount at [RapidApi](https://rapidapi.com/rapidapi/api/movie-database-imdb-alternative/endpoints) and subscribe to get your own api key!"
   ],
   "cell_type": "markdown",
   "metadata": {}
  },
  {
   "cell_type": "code",
   "execution_count": 13,
   "metadata": {},
   "outputs": [],
   "source": [
    "import requests\n",
    "import json\n",
    "\n",
    "\n",
    "def search(film_name):\n",
    "\n",
    "    url = \"https://movie-database-imdb-alternative.p.rapidapi.com/\"\n",
    "\n",
    "    querystring = {\"s\":film_name,\"page\":\"1\",\"r\":\"json\"}\n",
    "\n",
    "    with open('.secrets.json') as file:\n",
    "        headers = {\n",
    "            'x-rapidapi-key': json.load(file)['x-rapidapi-key'],\n",
    "            'x-rapidapi-host': \"movie-database-imdb-alternative.p.rapidapi.com\"\n",
    "        }\n",
    "\n",
    "    response = requests.request(\"GET\", url, headers=headers, params=querystring)\n",
    "\n",
    "    if not response.json().get('Search'):\n",
    "        return ('','','')\n",
    "\n",
    "    return (response.json()['Search'][0]['Title'], response.json()['Search'][0]['Year'], response.json()['Search'][0]['Poster'])"
   ]
  },
  {
   "cell_type": "code",
   "execution_count": 14,
   "metadata": {},
   "outputs": [
    {
     "output_type": "execute_result",
     "data": {
      "text/plain": [
       "('The Avengers',\n",
       " '2012',\n",
       " 'https://m.media-amazon.com/images/M/MV5BNDYxNjQyMjAtNTdiOS00NGYwLWFmNTAtNThmYjU5ZGI2YTI1XkEyXkFqcGdeQXVyMTMxODk2OTU@._V1_SX300.jpg')"
      ]
     },
     "metadata": {},
     "execution_count": 14
    }
   ],
   "source": [
    "search(\"Avengers\")"
   ]
  },
  {
   "cell_type": "code",
   "execution_count": 51,
   "metadata": {},
   "outputs": [
    {
     "output_type": "execute_result",
     "data": {
      "text/plain": [
       "                                                 film  year  \\\n",
       "0                                        The Avengers  2012   \n",
       "1        Harry Potter and the Deathly Hallows: Part 2  2011   \n",
       "2   The Lord of the Rings: The Fellowship of the Ring  2001   \n",
       "3                                        Interstellar  2014   \n",
       "4                                          The Matrix  1999   \n",
       "5                                             Matilda  1996   \n",
       "6                  Star Wars: Episode IV - A New Hope  1977   \n",
       "7                                                2012  2009   \n",
       "8                                            Anaconda  1997   \n",
       "9                      Jumanji: Welcome to the Jungle  2017   \n",
       "10               How to Train Your Dragon: Homecoming  2019   \n",
       "11                                       Wonder Woman  2017   \n",
       "12                                        Dr. Strange  1978   \n",
       "13                                 Mr. and Mrs. Smith  2007   \n",
       "14                                The Incredible Hulk  2008   \n",
       "15                         Terminator 2: Judgment Day  1991   \n",
       "16                                     Justice League  2017   \n",
       "17                                            Aquaman  2018   \n",
       "18                                      Jurassic Park  1993   \n",
       "19                                           Twilight  2008   \n",
       "20                                        The Martian  2015   \n",
       "21            Fantastic Beasts and Where to Find Them  2016   \n",
       "22                                          Bee Movie  2007   \n",
       "23                                       Passenger 57  1992   \n",
       "24                         X-Men: Days of Future Past  2014   \n",
       "\n",
       "                                                  img  \n",
       "0   https://m.media-amazon.com/images/M/MV5BNDYxNj...  \n",
       "1   https://m.media-amazon.com/images/M/MV5BMGVmMW...  \n",
       "2   https://m.media-amazon.com/images/M/MV5BN2EyZj...  \n",
       "3   https://m.media-amazon.com/images/M/MV5BZjdkOT...  \n",
       "4   https://m.media-amazon.com/images/M/MV5BNzQzOT...  \n",
       "5   https://m.media-amazon.com/images/M/MV5BZGVlYT...  \n",
       "6   https://m.media-amazon.com/images/M/MV5BNzVlY2...  \n",
       "7   https://m.media-amazon.com/images/M/MV5BMTY0Mj...  \n",
       "8   https://m.media-amazon.com/images/M/MV5BZDc4OD...  \n",
       "9   https://m.media-amazon.com/images/M/MV5BODQ0ND...  \n",
       "10  https://m.media-amazon.com/images/M/MV5BMTlkZj...  \n",
       "11  https://m.media-amazon.com/images/M/MV5BMTYzOD...  \n",
       "12  https://m.media-amazon.com/images/M/MV5BMTg1ND...  \n",
       "13  https://m.media-amazon.com/images/M/MV5BNDVjZj...  \n",
       "14  https://m.media-amazon.com/images/M/MV5BMTUyNz...  \n",
       "15  https://m.media-amazon.com/images/M/MV5BMGU2Nz...  \n",
       "16  https://m.media-amazon.com/images/M/MV5BYWVhZj...  \n",
       "17  https://m.media-amazon.com/images/M/MV5BOTk5OD...  \n",
       "18  https://m.media-amazon.com/images/M/MV5BMjM2MD...  \n",
       "19  https://m.media-amazon.com/images/M/MV5BMTQ2Nz...  \n",
       "20  https://m.media-amazon.com/images/M/MV5BMTc2MT...  \n",
       "21  https://m.media-amazon.com/images/M/MV5BMjMxOT...  \n",
       "22  https://m.media-amazon.com/images/M/MV5BMjE1MD...  \n",
       "23  https://m.media-amazon.com/images/M/MV5BMjg1MG...  \n",
       "24  https://m.media-amazon.com/images/M/MV5BZGIzNW...  "
      ],
      "text/html": "<div>\n<style scoped>\n    .dataframe tbody tr th:only-of-type {\n        vertical-align: middle;\n    }\n\n    .dataframe tbody tr th {\n        vertical-align: top;\n    }\n\n    .dataframe thead th {\n        text-align: right;\n    }\n</style>\n<table border=\"1\" class=\"dataframe\">\n  <thead>\n    <tr style=\"text-align: right;\">\n      <th></th>\n      <th>film</th>\n      <th>year</th>\n      <th>img</th>\n    </tr>\n  </thead>\n  <tbody>\n    <tr>\n      <th>0</th>\n      <td>The Avengers</td>\n      <td>2012</td>\n      <td>https://m.media-amazon.com/images/M/MV5BNDYxNj...</td>\n    </tr>\n    <tr>\n      <th>1</th>\n      <td>Harry Potter and the Deathly Hallows: Part 2</td>\n      <td>2011</td>\n      <td>https://m.media-amazon.com/images/M/MV5BMGVmMW...</td>\n    </tr>\n    <tr>\n      <th>2</th>\n      <td>The Lord of the Rings: The Fellowship of the Ring</td>\n      <td>2001</td>\n      <td>https://m.media-amazon.com/images/M/MV5BN2EyZj...</td>\n    </tr>\n    <tr>\n      <th>3</th>\n      <td>Interstellar</td>\n      <td>2014</td>\n      <td>https://m.media-amazon.com/images/M/MV5BZjdkOT...</td>\n    </tr>\n    <tr>\n      <th>4</th>\n      <td>The Matrix</td>\n      <td>1999</td>\n      <td>https://m.media-amazon.com/images/M/MV5BNzQzOT...</td>\n    </tr>\n    <tr>\n      <th>5</th>\n      <td>Matilda</td>\n      <td>1996</td>\n      <td>https://m.media-amazon.com/images/M/MV5BZGVlYT...</td>\n    </tr>\n    <tr>\n      <th>6</th>\n      <td>Star Wars: Episode IV - A New Hope</td>\n      <td>1977</td>\n      <td>https://m.media-amazon.com/images/M/MV5BNzVlY2...</td>\n    </tr>\n    <tr>\n      <th>7</th>\n      <td>2012</td>\n      <td>2009</td>\n      <td>https://m.media-amazon.com/images/M/MV5BMTY0Mj...</td>\n    </tr>\n    <tr>\n      <th>8</th>\n      <td>Anaconda</td>\n      <td>1997</td>\n      <td>https://m.media-amazon.com/images/M/MV5BZDc4OD...</td>\n    </tr>\n    <tr>\n      <th>9</th>\n      <td>Jumanji: Welcome to the Jungle</td>\n      <td>2017</td>\n      <td>https://m.media-amazon.com/images/M/MV5BODQ0ND...</td>\n    </tr>\n    <tr>\n      <th>10</th>\n      <td>How to Train Your Dragon: Homecoming</td>\n      <td>2019</td>\n      <td>https://m.media-amazon.com/images/M/MV5BMTlkZj...</td>\n    </tr>\n    <tr>\n      <th>11</th>\n      <td>Wonder Woman</td>\n      <td>2017</td>\n      <td>https://m.media-amazon.com/images/M/MV5BMTYzOD...</td>\n    </tr>\n    <tr>\n      <th>12</th>\n      <td>Dr. Strange</td>\n      <td>1978</td>\n      <td>https://m.media-amazon.com/images/M/MV5BMTg1ND...</td>\n    </tr>\n    <tr>\n      <th>13</th>\n      <td>Mr. and Mrs. Smith</td>\n      <td>2007</td>\n      <td>https://m.media-amazon.com/images/M/MV5BNDVjZj...</td>\n    </tr>\n    <tr>\n      <th>14</th>\n      <td>The Incredible Hulk</td>\n      <td>2008</td>\n      <td>https://m.media-amazon.com/images/M/MV5BMTUyNz...</td>\n    </tr>\n    <tr>\n      <th>15</th>\n      <td>Terminator 2: Judgment Day</td>\n      <td>1991</td>\n      <td>https://m.media-amazon.com/images/M/MV5BMGU2Nz...</td>\n    </tr>\n    <tr>\n      <th>16</th>\n      <td>Justice League</td>\n      <td>2017</td>\n      <td>https://m.media-amazon.com/images/M/MV5BYWVhZj...</td>\n    </tr>\n    <tr>\n      <th>17</th>\n      <td>Aquaman</td>\n      <td>2018</td>\n      <td>https://m.media-amazon.com/images/M/MV5BOTk5OD...</td>\n    </tr>\n    <tr>\n      <th>18</th>\n      <td>Jurassic Park</td>\n      <td>1993</td>\n      <td>https://m.media-amazon.com/images/M/MV5BMjM2MD...</td>\n    </tr>\n    <tr>\n      <th>19</th>\n      <td>Twilight</td>\n      <td>2008</td>\n      <td>https://m.media-amazon.com/images/M/MV5BMTQ2Nz...</td>\n    </tr>\n    <tr>\n      <th>20</th>\n      <td>The Martian</td>\n      <td>2015</td>\n      <td>https://m.media-amazon.com/images/M/MV5BMTc2MT...</td>\n    </tr>\n    <tr>\n      <th>21</th>\n      <td>Fantastic Beasts and Where to Find Them</td>\n      <td>2016</td>\n      <td>https://m.media-amazon.com/images/M/MV5BMjMxOT...</td>\n    </tr>\n    <tr>\n      <th>22</th>\n      <td>Bee Movie</td>\n      <td>2007</td>\n      <td>https://m.media-amazon.com/images/M/MV5BMjE1MD...</td>\n    </tr>\n    <tr>\n      <th>23</th>\n      <td>Passenger 57</td>\n      <td>1992</td>\n      <td>https://m.media-amazon.com/images/M/MV5BMjg1MG...</td>\n    </tr>\n    <tr>\n      <th>24</th>\n      <td>X-Men: Days of Future Past</td>\n      <td>2014</td>\n      <td>https://m.media-amazon.com/images/M/MV5BZGIzNW...</td>\n    </tr>\n  </tbody>\n</table>\n</div>"
     },
     "metadata": {},
     "execution_count": 51
    }
   ],
   "source": [
    "import pandas as pd\n",
    "\n",
    "films = []\n",
    "filmlist = [\n",
    "    'Avengers',\n",
    "    'Harry Potter',\n",
    "    'Lord of the Rings',\n",
    "    'Interstellar',\n",
    "    'Matrix',\n",
    "    'Matilda',\n",
    "    'Star Wars',\n",
    "    '2012',\n",
    "    'Anaconda',\n",
    "    'Jumanji',\n",
    "    'How to Train Your Dragon: Homecoming',\n",
    "    'Wonder Woman',\n",
    "    'Dr. Strange',\n",
    "    'Mr. and Mrs. Smith',\n",
    "    'Hulk',\n",
    "    'Terminator',\n",
    "    'Justice League',\n",
    "    'Aquaman',\n",
    "    'Jurassic Park',\n",
    "    'Twilight',\n",
    "    'Martian',\n",
    "    'Fantastic Beasts',\n",
    "    'Bee Movie',\n",
    "    'Passenger',\n",
    "    'X-Men'\n",
    "]\n",
    "for film in filmlist:\n",
    "    films.append(search(film))\n",
    "\n",
    "df = pd.DataFrame(films, columns=['film', 'year', 'img'])\n",
    "\n",
    "df\n"
   ]
  },
  {
   "cell_type": "code",
   "execution_count": 58,
   "metadata": {},
   "outputs": [],
   "source": [
    "df.to_csv('data/filmlist.csv', index=False)"
   ]
  },
  {
   "cell_type": "code",
   "execution_count": null,
   "metadata": {},
   "outputs": [],
   "source": []
  }
 ]
}